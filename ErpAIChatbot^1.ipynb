{
 "cells": [
  {
   "cell_type": "code",
   "execution_count": null,
   "id": "4bfdaf7b",
   "metadata": {},
   "outputs": [
    {
     "name": "stdout",
     "output_type": "stream",
     "text": [
      "Collecting python-dotenv\n",
      "  Downloading python_dotenv-1.1.1-py3-none-any.whl.metadata (24 kB)\n",
      "Downloading python_dotenv-1.1.1-py3-none-any.whl (20 kB)\n",
      "Installing collected packages: python-dotenv\n",
      "Successfully installed python-dotenv-1.1.1\n",
      "\u001b[33mWARNING: Running pip as the 'root' user can result in broken permissions and conflicting behaviour with the system package manager. It is recommended to use a virtual environment instead: https://pip.pypa.io/warnings/venv\u001b[0m\u001b[33m\n",
      "\u001b[0m\n",
      "\u001b[1m[\u001b[0m\u001b[34;49mnotice\u001b[0m\u001b[1;39;49m]\u001b[0m\u001b[39;49m A new release of pip is available: \u001b[0m\u001b[31;49m24.0\u001b[0m\u001b[39;49m -> \u001b[0m\u001b[32;49m25.2\u001b[0m\n",
      "\u001b[1m[\u001b[0m\u001b[34;49mnotice\u001b[0m\u001b[1;39;49m]\u001b[0m\u001b[39;49m To update, run: \u001b[0m\u001b[32;49mpip install --upgrade pip\u001b[0m\n"
     ]
    }
   ],
   "source": [
    "# !pip install pymongo langchain-perplexity\n",
    "# !pip install python-dotenv\n"
   ]
  },
  {
   "cell_type": "code",
   "execution_count": 2,
   "id": "6cf1c108",
   "metadata": {},
   "outputs": [],
   "source": [
    "from dotenv import load_dotenv\n",
    "import os\n",
    "\n",
    "load_dotenv()  # This will read the .env file and set environment variables\n",
    "\n",
    "PPLX_API_KEY = os.environ.get(\"PPLX_API_KEY\")\n",
    "if not PPLX_API_KEY:\n",
    "    raise ValueError(\"PPLX_API_KEY not found in environment. Check your .env file.\")"
   ]
  },
  {
   "cell_type": "code",
   "execution_count": null,
   "id": "3f55cfbe",
   "metadata": {},
   "outputs": [],
   "source": [
    "import os\n",
    "import getpass\n",
    "from pymongo import MongoClient\n",
    "from typing import Dict\n",
    "from datetime import datetime\n",
    "\n",
    "# Perplexity API key setup\n",
    "if \"PPLX_API_KEY\" not in os.environ:\n",
    "    os.environ[\"PPLX_API_KEY\"] = getpass.getpass(\"Enter your Perplexity API key: \")\n",
    "\n",
    "\n",
    "# MongoDB connection (replace with your details)\n",
    "MONGO_URI = \"mongodb+srv://<username>:<password>@cluster.mongodb.net\"\n",
    "DB_NAME = \"erp_db\"\n",
    "client = MongoClient(MONGO_URI)\n",
    "db = client[DB_NAME]"
   ]
  },
  {
   "cell_type": "code",
   "execution_count": null,
   "id": "3bb1d357",
   "metadata": {},
   "outputs": [],
   "source": [
    "def authenticate_user(user_id: str, api_key: str) -> bool:\n",
    "    \"\"\"Authenticate the user against the ERP user database.\"\"\"\n",
    "    user = db.users.find_one({\"user_id\": user_id, \"api_key\": api_key})\n",
    "    return user is not None\n",
    "\n",
    "def get_most_profitable_customer(subscriber_id: str) -> Dict:\n",
    "    \"\"\"Find the most profitable customer for the given subscriber.\"\"\"\n",
    "    pipeline = [\n",
    "        {\"$match\": {\"subscriber_id\": subscriber_id}},\n",
    "        {\"$group\": {\"_id\": \"$customer_id\", \"total_profit\": {\"$sum\": \"$profit\"}}},\n",
    "        {\"$sort\": {\"total_profit\": -1}},\n",
    "        {\"$limit\": 1}\n",
    "    ]\n",
    "    result = list(db.sales.aggregate(pipeline))\n",
    "    return result[0] if result else {}\n",
    "\n",
    "def employees_called_in_sick(subscriber_id: str, month: int, year: int) -> int:\n",
    "    \"\"\"Return count of employees who called in sick in the specified month.\"\"\"\n",
    "    start_date = datetime(year, month, 1)\n",
    "    if month == 12:\n",
    "        end_date = datetime(year + 1, 1, 1)\n",
    "    else:\n",
    "        end_date = datetime(year, month + 1, 1)\n",
    "    query = {\n",
    "        \"subscriber_id\": subscriber_id,\n",
    "        \"absence_type\": \"sick\",\n",
    "        \"date\": {\n",
    "            \"$gte\": start_date,\n",
    "            \"$lt\": end_date\n",
    "        }\n",
    "    }\n",
    "    return db.absences.count_documents(query)"
   ]
  },
  {
   "cell_type": "code",
   "execution_count": null,
   "id": "c81aa06b",
   "metadata": {},
   "outputs": [],
   "source": [
    "from langchain_perplexity import ChatPerplexity\n",
    "from langchain_core.prompts import ChatPromptTemplate\n",
    "\n",
    "chat = ChatPerplexity(temperature=0, model=\"sonar\")  # 'sonar' or any available Perplexity model\n",
    "system_msg = \"You are a helpful ERP analytics assistant. Answer the user's question using the provided business data context.\"\n",
    "prompt = ChatPromptTemplate.from_messages([\n",
    "    (\"system\", system_msg),\n",
    "    (\"human\", \"{input}\")\n",
    "])\n",
    "chain = prompt | chat"
   ]
  },
  {
   "cell_type": "code",
   "execution_count": null,
   "id": "09e3be4e",
   "metadata": {},
   "outputs": [],
   "source": [
    "def ask_llm_with_context(question, data_context):\n",
    "    input_text = f\"{question}\\nRelevant business data:\\n{data_context}\"\n",
    "    response = chain.invoke({\"input\": input_text})\n",
    "    return response.content"
   ]
  },
  {
   "cell_type": "code",
   "execution_count": null,
   "id": "f5684ca4",
   "metadata": {},
   "outputs": [],
   "source": [
    "def chatbot_loop():\n",
    "    subscriber_id = input(\"Enter your subscriber ID: \")\n",
    "    user_id = input(\"Enter your user ID: \")\n",
    "    api_key = getpass.getpass(\"API Key: \")\n",
    "\n",
    "    if not authenticate_user(user_id, api_key):\n",
    "        print(\"Authentication failed.\")\n",
    "        return\n",
    "\n",
    "    print(\"Ask your question (e.g. 'Who is my most profitable customer?', 'How many called in sick in May 2025?') Type 'exit' to quit.\")\n",
    "\n",
    "    while True:\n",
    "        question = input(\"> \")\n",
    "        if question.lower() == \"exit\":\n",
    "            break\n",
    "        # Match logic can be expanded with NLP or custom regex\n",
    "        if \"profitable customer\" in question:\n",
    "            result = get_most_profitable_customer(subscriber_id)\n",
    "            context = f\"Most profitable customer: {result.get('_id', 'N/A')}, Total profit: {result.get('total_profit', 0)}\"\n",
    "            answer = ask_llm_with_context(question, context)\n",
    "            print(answer)\n",
    "        elif \"called in sick\" in question:\n",
    "            # parse month/year from question for demo, e.g., \"May 2025\"\n",
    "            parts = question.lower().split()\n",
    "            month_name = next((x for x in parts if x.capitalize() in [\"January\",\"February\",\"March\",\"April\",\"May\",\"June\",\"July\",\"August\",\"September\",\"October\",\"November\",\"December\"]), None)\n",
    "            year_val = next((x for x in parts if x.isdigit() and len(x)==4), None)\n",
    "            month_lookup = {\"january\":1,\"february\":2,\"march\":3,\"april\":4,\"may\":5,\"june\":6,\"july\":7,\"august\":8,\"september\":9,\"october\":10,\"november\":11,\"december\":12}\n",
    "            if month_name and year_val:\n",
    "                month = month_lookup[month_name]\n",
    "                year = int(year_val)\n",
    "                count = employees_called_in_sick(subscriber_id, month, year)\n",
    "                context = f\"Employees called in sick in {month_name.capitalize()} {year}: {count}\"\n",
    "                answer = ask_llm_with_context(question, context)\n",
    "                print(answer)\n",
    "            else:\n",
    "                print(\"Please specify a valid month and year.\")\n",
    "        else:\n",
    "            print(\"Sorry, I can't answer that yet (custom logic needed).\")"
   ]
  },
  {
   "cell_type": "code",
   "execution_count": null,
   "id": "33879026",
   "metadata": {},
   "outputs": [],
   "source": [
    "chatbot_loop()"
   ]
  }
 ],
 "metadata": {
  "kernelspec": {
   "display_name": "Python 3",
   "language": "python",
   "name": "python3"
  },
  "language_info": {
   "codemirror_mode": {
    "name": "ipython",
    "version": 3
   },
   "file_extension": ".py",
   "mimetype": "text/x-python",
   "name": "python",
   "nbconvert_exporter": "python",
   "pygments_lexer": "ipython3",
   "version": "3.11.13"
  }
 },
 "nbformat": 4,
 "nbformat_minor": 5
}
